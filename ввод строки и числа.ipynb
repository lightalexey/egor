{
 "cells": [
  {
   "cell_type": "code",
   "execution_count": 1,
   "id": "3cdfee73",
   "metadata": {},
   "outputs": [
    {
     "name": "stdout",
     "output_type": "stream",
     "text": [
      "сумма равна 23\n"
     ]
    }
   ],
   "source": [
    "a = input('Введи а=')\n",
    "b = input('Введи b=')\n",
    "summa = a + b\n",
    "print('сумма равна', summa)"
   ]
  }
 ],
 "metadata": {
  "kernelspec": {
   "display_name": "Python 3.10.2 64-bit",
   "language": "python",
   "name": "python3"
  },
  "language_info": {
   "codemirror_mode": {
    "name": "ipython",
    "version": 3
   },
   "file_extension": ".py",
   "mimetype": "text/x-python",
   "name": "python",
   "nbconvert_exporter": "python",
   "pygments_lexer": "ipython3",
   "version": "3.10.2"
  },
  "vscode": {
   "interpreter": {
    "hash": "f3e8961818daa0f4b469a5c40cdce20be5b4a148bf1eb1841388b4e4e7a0a0dc"
   }
  }
 },
 "nbformat": 4,
 "nbformat_minor": 5
}
